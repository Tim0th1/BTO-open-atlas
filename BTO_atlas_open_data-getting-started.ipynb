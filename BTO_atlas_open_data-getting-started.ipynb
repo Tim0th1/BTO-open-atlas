{
 "cells": [
  {
   "cell_type": "markdown",
   "metadata": {},
   "source": [
    "#  Open Data Science for Ornithology based on the British Trust for Ornithology (BTO) Bird Atlas 2007-11\n",
    "\n",
    "#### The purpose of this python notebook is to promote the work of the BTO and their contribution to open data science using the [BTO atlas](https://www.bto.org/volunteer-surveys/birdatlas). \n",
    "\n",
    "\n",
    "#### The BTO atlas was a survey that covered all 10-km squares in the UK and Ireland and in both winter and the breeding season between 2007 and 2011. Fieldwork was completed following the breeding season of 2011, and the data was analysed and published in 2014. Details on the [methods](https://www.bto.org/volunteer-surveys/birdatlas/methods) and [results](https://www.bto.org/volunteer-surveys/birdatlas/results) are available.\n",
    "\n",
    "Any research outputs based on the BTO atlas must respect its publication under a Creative Commons licence, with Attribution, Non-commercial v4.0 (CC-BY-NC). See here for full details of what is permitted: https://creativecommons.org/licenses/by-nc/4.0/_\n",
    "\n",
    "_Citation: Gillings, S., Balmer, D.E., Caffrey, B.J., Downie, I.S., Gibbons, D.W., Lack, P.C., Reid, J.B., Sharrock, J.T.R., Swann, R.L. & Fuller, R.J. (in press) Breeding and wintering bird distributions in Britain and Ireland from citizen science bird atlases. Global Ecology and Biogeography._\n",
    "\n",
    "_BTO, 02 February 2019_\n",
    "\n",
    "The author of this python notebook was not involved in the research. The author is employed by [Open Data Services Coop](http://www.opendataservices.coop/) which is a cooperative with the mission to promote open data. Please consider [joining the BTO](https://www.bto.org/support-us) or making a donation to them.  \n",
    "\n",
    "------------------------------------------------\n",
    "\n",
    "## The Data\n",
    "\n",
    "16 million records were used in the production of the research Atlas and further details on the size of the databases can be found [here](https://www.bto.org/volunteer-surveys/birdatlas/results/data). \n",
    "\n",
    "A downloadable link to the data set can be found [here](\n",
    "https://www.bto.org/our-science/publications/peer-reviewed-papers/breeding-and-wintering-bird-distributions-britain-and).\n"
   ]
  },
  {
   "cell_type": "code",
   "execution_count": 1,
   "metadata": {},
   "outputs": [],
   "source": [
    "# The method employed here is to download the zip file from the BTO site:\n",
    "# https://www.bto.org/sites/default/files/atlas_open_data_files.zip\n",
    "# create a folder in Downloads, name it \"BTO_atlas_open_data\"\n",
    "# and extract the 5 files.\n",
    "\n",
    "# note, to read the data into pandas requires the following encoding = \"ISO-8859-1\"\n",
    "\n",
    "import pandas as pd\n",
    "\n",
    "species_lookup = pd.read_csv('../Downloads/BTO_atlas_open_data/species_lookup.csv', encoding = \"ISO-8859-1\")\n",
    "distributions = pd.read_csv('../Downloads/BTO_atlas_open_data/distributions.csv', encoding = \"ISO-8859-1\")\n",
    "grid_square_coordinates = pd.read_csv('../Downloads/BTO_atlas_open_data/grid_square_coordinates_lookup.csv', encoding = \"ISO-8859-1\")\n",
    "distribution_changes = pd.read_csv('../Downloads/BTO_atlas_open_data/distribution_changes.csv', encoding = \"ISO-8859-1\")\n",
    "percent_benchmark_species_detected = pd.read_csv('../Downloads/BTO_atlas_open_data/percent_benchmark_species_detected.csv', encoding = \"ISO-8859-1\")"
   ]
  },
  {
   "cell_type": "markdown",
   "metadata": {},
   "source": [
    "# Percent Benchmark Species Detected"
   ]
  },
  {
   "cell_type": "markdown",
   "metadata": {},
   "source": [
    "The Percent benchmark species detected data is explored in the cells below. \n",
    "There are benchmark species percentages for breeding (ba) AND wintering (wa) areas for 2010. Only breeding OR wintering area benchmark species percentages are available for 1970, 1980 and 1990.  We can see that there is a tenkm variable which refers to the alphabetic OS grid system in Figure 1. The tenkm notation contains two alphabetic letters (100km squares) and two numbers which are assigned according to https://www.ordnancesurvey.co.uk/docs/support/guide-to-nationalgrid.pdf. For example, Land's End, the south west tip of England would be located within tenkm square SW32.\n",
    "\n",
    "![map squares](https://www.bto.org/sites/default/files/u36/nationalgrid_0.jpg)\n"
   ]
  },
  {
   "cell_type": "code",
   "execution_count": 2,
   "metadata": {},
   "outputs": [
    {
     "data": {
      "text/html": [
       "<div>\n",
       "<style>\n",
       "    .dataframe thead tr:only-child th {\n",
       "        text-align: right;\n",
       "    }\n",
       "\n",
       "    .dataframe thead th {\n",
       "        text-align: left;\n",
       "    }\n",
       "\n",
       "    .dataframe tbody tr th {\n",
       "        vertical-align: top;\n",
       "    }\n",
       "</style>\n",
       "<table border=\"1\" class=\"dataframe\">\n",
       "  <thead>\n",
       "    <tr style=\"text-align: right;\">\n",
       "      <th></th>\n",
       "      <th>tenkm</th>\n",
       "      <th>pbench_ba1970</th>\n",
       "      <th>pbench_wa1980</th>\n",
       "      <th>pbench_ba1990</th>\n",
       "      <th>pbench_ba2010</th>\n",
       "      <th>pbench_wa2010</th>\n",
       "    </tr>\n",
       "  </thead>\n",
       "  <tbody>\n",
       "    <tr>\n",
       "      <th>0</th>\n",
       "      <td>HP40</td>\n",
       "      <td>97</td>\n",
       "      <td>42</td>\n",
       "      <td>85</td>\n",
       "      <td>76</td>\n",
       "      <td>34</td>\n",
       "    </tr>\n",
       "    <tr>\n",
       "      <th>1</th>\n",
       "      <td>HP50</td>\n",
       "      <td>100</td>\n",
       "      <td>100</td>\n",
       "      <td>100</td>\n",
       "      <td>100</td>\n",
       "      <td>98</td>\n",
       "    </tr>\n",
       "    <tr>\n",
       "      <th>2</th>\n",
       "      <td>HP51</td>\n",
       "      <td>88</td>\n",
       "      <td>62</td>\n",
       "      <td>95</td>\n",
       "      <td>81</td>\n",
       "      <td>73</td>\n",
       "    </tr>\n",
       "    <tr>\n",
       "      <th>3</th>\n",
       "      <td>HP60</td>\n",
       "      <td>100</td>\n",
       "      <td>97</td>\n",
       "      <td>97</td>\n",
       "      <td>100</td>\n",
       "      <td>100</td>\n",
       "    </tr>\n",
       "    <tr>\n",
       "      <th>4</th>\n",
       "      <td>HP61</td>\n",
       "      <td>97</td>\n",
       "      <td>95</td>\n",
       "      <td>98</td>\n",
       "      <td>100</td>\n",
       "      <td>100</td>\n",
       "    </tr>\n",
       "  </tbody>\n",
       "</table>\n",
       "</div>"
      ],
      "text/plain": [
       "  tenkm  pbench_ba1970  pbench_wa1980  pbench_ba1990  pbench_ba2010  \\\n",
       "0  HP40             97             42             85             76   \n",
       "1  HP50            100            100            100            100   \n",
       "2  HP51             88             62             95             81   \n",
       "3  HP60            100             97             97            100   \n",
       "4  HP61             97             95             98            100   \n",
       "\n",
       "   pbench_wa2010  \n",
       "0             34  \n",
       "1             98  \n",
       "2             73  \n",
       "3            100  \n",
       "4            100  "
      ]
     },
     "execution_count": 2,
     "metadata": {},
     "output_type": "execute_result"
    }
   ],
   "source": [
    "# here are the first few rows of the dataset\n",
    "\n",
    "percent_benchmark_species_detected.head()"
   ]
  },
  {
   "cell_type": "code",
   "execution_count": 3,
   "metadata": {},
   "outputs": [],
   "source": [
    "# setting the tenkm variable as the index\n",
    "\n",
    "percent_benchmark_species_detected = percent_benchmark_species_detected.set_index('tenkm')"
   ]
  },
  {
   "cell_type": "code",
   "execution_count": 4,
   "metadata": {},
   "outputs": [
    {
     "data": {
      "text/html": [
       "<div>\n",
       "<style>\n",
       "    .dataframe thead tr:only-child th {\n",
       "        text-align: right;\n",
       "    }\n",
       "\n",
       "    .dataframe thead th {\n",
       "        text-align: left;\n",
       "    }\n",
       "\n",
       "    .dataframe tbody tr th {\n",
       "        vertical-align: top;\n",
       "    }\n",
       "</style>\n",
       "<table border=\"1\" class=\"dataframe\">\n",
       "  <thead>\n",
       "    <tr style=\"text-align: right;\">\n",
       "      <th></th>\n",
       "      <th>pbench_ba1970</th>\n",
       "      <th>pbench_wa1980</th>\n",
       "      <th>pbench_ba1990</th>\n",
       "      <th>pbench_ba2010</th>\n",
       "      <th>pbench_wa2010</th>\n",
       "    </tr>\n",
       "    <tr>\n",
       "      <th>tenkm</th>\n",
       "      <th></th>\n",
       "      <th></th>\n",
       "      <th></th>\n",
       "      <th></th>\n",
       "      <th></th>\n",
       "    </tr>\n",
       "  </thead>\n",
       "  <tbody>\n",
       "    <tr>\n",
       "      <th>HP40</th>\n",
       "      <td>97</td>\n",
       "      <td>42</td>\n",
       "      <td>85</td>\n",
       "      <td>76</td>\n",
       "      <td>34</td>\n",
       "    </tr>\n",
       "    <tr>\n",
       "      <th>HP50</th>\n",
       "      <td>100</td>\n",
       "      <td>100</td>\n",
       "      <td>100</td>\n",
       "      <td>100</td>\n",
       "      <td>98</td>\n",
       "    </tr>\n",
       "    <tr>\n",
       "      <th>HP51</th>\n",
       "      <td>88</td>\n",
       "      <td>62</td>\n",
       "      <td>95</td>\n",
       "      <td>81</td>\n",
       "      <td>73</td>\n",
       "    </tr>\n",
       "    <tr>\n",
       "      <th>HP60</th>\n",
       "      <td>100</td>\n",
       "      <td>97</td>\n",
       "      <td>97</td>\n",
       "      <td>100</td>\n",
       "      <td>100</td>\n",
       "    </tr>\n",
       "    <tr>\n",
       "      <th>HP61</th>\n",
       "      <td>97</td>\n",
       "      <td>95</td>\n",
       "      <td>98</td>\n",
       "      <td>100</td>\n",
       "      <td>100</td>\n",
       "    </tr>\n",
       "  </tbody>\n",
       "</table>\n",
       "</div>"
      ],
      "text/plain": [
       "       pbench_ba1970  pbench_wa1980  pbench_ba1990  pbench_ba2010  \\\n",
       "tenkm                                                               \n",
       "HP40              97             42             85             76   \n",
       "HP50             100            100            100            100   \n",
       "HP51              88             62             95             81   \n",
       "HP60             100             97             97            100   \n",
       "HP61              97             95             98            100   \n",
       "\n",
       "       pbench_wa2010  \n",
       "tenkm                 \n",
       "HP40              34  \n",
       "HP50              98  \n",
       "HP51              73  \n",
       "HP60             100  \n",
       "HP61             100  "
      ]
     },
     "execution_count": 4,
     "metadata": {},
     "output_type": "execute_result"
    }
   ],
   "source": [
    "percent_benchmark_species_detected.head()"
   ]
  },
  {
   "cell_type": "code",
   "execution_count": 5,
   "metadata": {},
   "outputs": [
    {
     "data": {
      "text/plain": [
       "pbench_ba1970    100\n",
       "pbench_wa1980    100\n",
       "pbench_ba1990    100\n",
       "pbench_ba2010    100\n",
       "pbench_wa2010    100\n",
       "Name: SW32, dtype: int64"
      ]
     },
     "execution_count": 5,
     "metadata": {},
     "output_type": "execute_result"
    }
   ],
   "source": [
    "# looking at a single location, (e.g. Land's End = 'SW32') \n",
    "\n",
    "percent_benchmark_species_detected.loc['SW32', :]\n"
   ]
  }
 ],
 "metadata": {
  "kernelspec": {
   "display_name": "Python 3",
   "language": "python",
   "name": "python3"
  },
  "language_info": {
   "codemirror_mode": {
    "name": "ipython",
    "version": 3
   },
   "file_extension": ".py",
   "mimetype": "text/x-python",
   "name": "python",
   "nbconvert_exporter": "python",
   "pygments_lexer": "ipython3",
   "version": "3.6.6"
  }
 },
 "nbformat": 4,
 "nbformat_minor": 2
}
